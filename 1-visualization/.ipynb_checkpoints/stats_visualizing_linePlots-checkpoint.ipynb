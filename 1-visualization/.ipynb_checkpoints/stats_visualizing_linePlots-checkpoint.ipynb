{
 "cells": [
  {
   "cell_type": "markdown",
   "metadata": {},
   "source": [
    "# COURSE: Master statistics and machine learning: Intuition, Math, code\n",
    "##### COURSE URL: udemy.com/course/statsml_x/?couponCode=202006 \n",
    "## SECTION: Visualizing data\n",
    "### VIDEO: Line plots\n",
    "#### TEACHER: Mike X Cohen, sincxpress.com\n"
   ]
  },
  {
   "cell_type": "code",
   "execution_count": 1,
   "metadata": {},
   "outputs": [],
   "source": [
    "# import libraries\n",
    "import matplotlib.pyplot as plt\n",
    "import numpy as np"
   ]
  },
  {
   "cell_type": "code",
   "execution_count": 2,
   "metadata": {},
   "outputs": [],
   "source": [
    "## create data for the plot\n",
    "\n",
    "# number of data points\n",
    "n = 1000\n",
    "\n",
    "# generate log-normal distribution\n",
    "data1 = np.exp( np.random.randn(n)/2 )\n",
    "data2 = np.exp( np.random.randn(n)/10 )\n",
    "data3 = np.exp( np.random.randn(n)/2 + 1 )\n"
   ]
  },
  {
   "cell_type": "code",
   "execution_count": 3,
   "metadata": {},
   "outputs": [
    {
     "data": {
      "image/png": "[encoded data removed]",
      "text/plain": [
       "<Figure size 432x288 with 1 Axes>"
      ]
     },
     "metadata": {
      "needs_background": "light"
     },
     "output_type": "display_data"
    }
   ],
   "source": [
    "## plots of their histograms\n",
    "\n",
    "# number of histogram bins\n",
    "k = 20\n",
    "\n",
    "plt.hist(data1,bins=k)\n",
    "plt.hist(data2,bins=k)\n",
    "plt.hist(data3,bins=k)\n",
    "\n",
    "plt.show()"
   ]
  },
  {
   "cell_type": "code",
   "execution_count": null,
   "metadata": {},
   "outputs": [],
   "source": [
    "# histogram discretization for the datasets\n",
    "y1,x1 = np.histogram(data1,bins=k)\n",
    "xx1 = (x1[0:-1] + x1[1:]) / 2\n",
    "y1 = y1 / sum(y1) # convert to probability\n",
    "\n",
    "y2,x2 = np.histogram(data2,bins=k)\n",
    "xx2 = (x2[0:-1] + x2[1:]) / 2\n",
    "y2 = y2 / sum(y2) # convert to probability\n",
    "\n",
    "y3,x3 = np.histogram(data3,bins=k)\n",
    "xx3 = (x3[0:-1] + x3[1:]) / 2\n",
    "y3 = y3 / sum(y3) # convert to probability\n",
    "\n",
    "\n",
    "\n",
    "# show the plots\n",
    "plt.plot(xx1,y1,'s-',label='data1')\n",
    "plt.plot(xx2,y2,'o-',label='data2')\n",
    "plt.plot(xx3,y3,'^-',label='data3')\n",
    "\n",
    "plt.legend()\n",
    "plt.xlabel('Value')\n",
    "plt.ylabel('Probability')\n",
    "plt.show()"
   ]
  }
 ],
 "metadata": {
  "kernelspec": {
   "display_name": "Python 3",
   "language": "python",
   "name": "python3"
  },
  "language_info": {
   "codemirror_mode": {
    "name": "ipython",
    "version": 3
   },
   "file_extension": ".py",
   "mimetype": "text/x-python",
   "name": "python",
   "nbconvert_exporter": "python",
   "pygments_lexer": "ipython3",
   "version": "3.9.5"
  }
 },
 "nbformat": 4,
 "nbformat_minor": 2
}
