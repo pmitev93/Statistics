{
 "cells": [
  {
   "cell_type": "markdown",
   "metadata": {},
   "source": [
    "# COURSE: Master statistics and machine learning: Intuition, Math, code\n",
    "##### COURSE URL: udemy.com/course/statsml_x/?couponCode=202006 \n",
    "## SECTION: Visualizing data\n",
    "### VIDEO: Box-and-whisker plots\n",
    "#### TEACHER: Mike X Cohen, sincxpress.com\n"
   ]
  },
  {
   "cell_type": "code",
   "execution_count": 7,
   "metadata": {},
   "outputs": [],
   "source": [
    "# import libraries\n",
    "import matplotlib.pyplot as plt\n",
    "import numpy as np\n",
    "import pandas as pd\n",
    "import seaborn as sns"
   ]
  },
  {
   "cell_type": "code",
   "execution_count": 8,
   "metadata": {},
   "outputs": [],
   "source": [
    "## create data for the bar plot\n",
    "\n",
    "# data sizes\n",
    "m = 30 # rows\n",
    "n =  6 # columns\n",
    "\n",
    "# generate data\n",
    "data = np.zeros((m,n))\n",
    "\n",
    "for i in range(n):\n",
    "    data[:,i] = 30*np.random.randn(m) * (2*i/(n-1)-1)**2 + (i+1)**2\n"
   ]
  },
  {
   "cell_type": "code",
   "execution_count": 30,
   "metadata": {},
   "outputs": [
    {
     "data": {
      "text/plain": [
       "array([[-15.83680548,   0.19788968,   9.39444061,  15.04180603,\n",
       "         15.66582899,  85.51918446],\n",
       "       [ 42.26971875, -11.73359902,   9.90648515,  17.08078395,\n",
       "         24.33773379,  84.51800448],\n",
       "       [-40.09268048, -10.09720118,  10.77654262,  16.85738187,\n",
       "         27.79766507,  20.60974824],\n",
       "       [ 39.93596535,  17.28254668,   8.08119742,  18.18661665,\n",
       "          0.62630981,  41.17005941],\n",
       "       [ 14.52567729,  13.94416487,   9.55461183,  17.93282456,\n",
       "         22.65737918, -12.98707628],\n",
       "       [ 18.16998974, -24.83647912,   9.27395119,  15.23038578,\n",
       "         30.64472097,  25.11032248],\n",
       "       [ 13.03116824,   0.53433075,   6.97916637,  15.4606436 ,\n",
       "         13.34725708,  11.40451585],\n",
       "       [ 24.5781208 ,  18.72802989,   9.88333442,  13.87760333,\n",
       "         42.27343849,  23.33973515],\n",
       "       [  2.37539045,  17.71131019,   8.50223498,  16.76084811,\n",
       "         37.70522685,  12.63212952],\n",
       "       [ 33.25447464,   2.63087507,   8.62226282,  14.48099899,\n",
       "         23.05608526,   7.80247094],\n",
       "       [ 23.3575202 ,  19.92453785,   8.03704552,  15.25702078,\n",
       "         17.78271985,  56.86079388],\n",
       "       [-11.05801848,  15.74670328,   9.98153396,  16.22088125,\n",
       "         18.27058889,  53.73262128],\n",
       "       [ 35.43875422,   6.9884488 ,   7.27805176,  14.603046  ,\n",
       "         30.76798939,  36.3424513 ],\n",
       "       [-19.70789128,  -0.99313465,   9.95387686,  15.71044478,\n",
       "         24.01021387,  30.49446568],\n",
       "       [ 14.27973797,  12.83013028,   7.05727083,  16.29083928,\n",
       "         19.27943291,  51.12643784],\n",
       "       [-61.62996086,  13.62284598,  10.6284518 ,  17.37490247,\n",
       "         38.39583232,  33.62406642],\n",
       "       [ 24.04305421,  11.35166697,   9.52014962,  15.50357252,\n",
       "         21.05020444,   4.45174558],\n",
       "       [  0.35886287,  16.6648954 ,   8.79843766,  16.64946921,\n",
       "         23.11978982,  52.1875815 ],\n",
       "       [ 33.36150399,  -1.28629532,   8.84785231,  16.5568455 ,\n",
       "         37.25427918,  46.52172657],\n",
       "       [-15.15451345,   7.20085772,   9.54215411,  16.69284632,\n",
       "         36.67080224,  64.69237864],\n",
       "       [ 30.43489009,   7.81060749,  10.40187436,  17.99384707,\n",
       "         10.05725247,  33.57085714],\n",
       "       [  6.8159539 ,   8.91922712,   9.1738987 ,  15.68953723,\n",
       "         53.34556946,  52.18942817],\n",
       "       [ 22.29171386,   0.77941046,   8.25384391,  16.91158124,\n",
       "         24.51816549,  33.92896607],\n",
       "       [  0.18776659,  10.37277505,   9.08495648,  16.06048057,\n",
       "         22.81438752,  45.8131736 ],\n",
       "       [ 11.55425234,   1.62978556,  10.27727436,  16.30427461,\n",
       "         29.4254819 ,  33.80228866],\n",
       "       [ 31.17619678,   9.46308683,   9.61453324,  17.10298245,\n",
       "         36.54149564,  30.44265652],\n",
       "       [ 57.94237928,   3.91659161,   7.78576115,  15.68269052,\n",
       "         14.98766142, 113.00585836],\n",
       "       [  5.13829257,  25.6888579 ,   6.48235155,  15.65472359,\n",
       "         26.97670567,  37.06661228],\n",
       "       [  2.57347179,  -0.60534444,   7.45882176,  13.97233558,\n",
       "         36.66612219,  54.15799303],\n",
       "       [ 10.8597655 ,   8.49954581,  10.09562117,  16.73612806,\n",
       "          6.37505921,  42.16044218]])"
      ]
     },
     "execution_count": 30,
     "metadata": {},
     "output_type": "execute_result"
    }
   ],
   "source": [
    "data"
   ]
  },
  {
   "cell_type": "code",
   "execution_count": 9,
   "metadata": {},
   "outputs": [
    {
     "data": {
      "image/png": "[encoded data removed]",
      "text/plain": [
       "<Figure size 432x288 with 1 Axes>"
      ]
     },
     "metadata": {
      "needs_background": "light"
     },
     "output_type": "display_data"
    }
   ],
   "source": [
    "# now for the boxplot\n",
    "\n",
    "plt.boxplot(data)\n",
    "plt.show()"
   ]
  },
  {
   "cell_type": "code",
   "execution_count": 10,
   "metadata": {},
   "outputs": [
    {
     "data": {
      "image/png": "[encoded data removed]",
      "text/plain": [
       "<Figure size 432x288 with 1 Axes>"
      ]
     },
     "metadata": {
      "needs_background": "light"
     },
     "output_type": "display_data"
    }
   ],
   "source": [
    "# now with seaborn\n",
    "sns.boxplot(data=data,orient='v') #the v is for vertical, otherwise the default is horizontal\n",
    "plt.show()"
   ]
  },
  {
   "cell_type": "code",
   "execution_count": 21,
   "metadata": {},
   "outputs": [
    {
     "data": {
      "image/png": "[encoded data removed]",
      "text/plain": [
       "<Figure size 432x288 with 1 Axes>"
      ]
     },
     "metadata": {
      "needs_background": "light"
     },
     "output_type": "display_data"
    }
   ],
   "source": [
    "# or as a pandas data frame\n",
    "\n",
    "df = pd.DataFrame(data,columns=['zero','one','two','three','four','five'])\n",
    "sns.boxplot(data=df,orient='h')\n",
    "\n",
    "plt.show()"
   ]
  },
  {
   "cell_type": "code",
   "execution_count": 29,
   "metadata": {},
   "outputs": [
    {
     "data": {
      "text/plain": [
       "array([[ 1.03974445,  2.08286268,  0.94713361,  0.81776831,  0.04503684,\n",
       "        -0.90476443, -1.81547409, -0.36918314, -0.68490002, -0.96237223,\n",
       "         1.49408211, -1.8327796 ,  0.46581407, -0.69165461,  0.09051599,\n",
       "        -1.02456418, -0.55390013, -0.40047975,  2.59529849,  1.9661496 ],\n",
       "       [ 0.22284172,  0.51917865,  0.05150363,  0.27822438,  0.58237386,\n",
       "         0.07392446,  0.22046172,  0.96578727,  0.89244871,  0.37054019,\n",
       "         0.52453766,  0.80321109,  0.86900867,  0.02165691,  0.75418752,\n",
       "         0.20755783,  0.02313654,  0.65736517,  0.57820746,  0.09136553]])"
      ]
     },
     "execution_count": 29,
     "metadata": {},
     "output_type": "execute_result"
    }
   ],
   "source": [
    "N=20\n",
    "data1=np.random.randn(N)\n",
    "data2=np.random.rand(N)\n",
    "data3 = np.vstack((data1,data2))\n",
    "data3"
   ]
  },
  {
   "cell_type": "code",
   "execution_count": 34,
   "metadata": {},
   "outputs": [
    {
     "data": {
      "image/png": "[encoded data removed]",
      "text/plain": [
       "<Figure size 432x288 with 1 Axes>"
      ]
     },
     "metadata": {
      "needs_background": "light"
     },
     "output_type": "display_data"
    }
   ],
   "source": [
    "plt.boxplot(data3.T)\n",
    "plt.show()"
   ]
  }
 ],
 "metadata": {
  "kernelspec": {
   "display_name": "Python 3",
   "language": "python",
   "name": "python3"
  },
  "language_info": {
   "codemirror_mode": {
    "name": "ipython",
    "version": 3
   },
   "file_extension": ".py",
   "mimetype": "text/x-python",
   "name": "python",
   "nbconvert_exporter": "python",
   "pygments_lexer": "ipython3",
   "version": "3.9.5"
  }
 },
 "nbformat": 4,
 "nbformat_minor": 2
}
