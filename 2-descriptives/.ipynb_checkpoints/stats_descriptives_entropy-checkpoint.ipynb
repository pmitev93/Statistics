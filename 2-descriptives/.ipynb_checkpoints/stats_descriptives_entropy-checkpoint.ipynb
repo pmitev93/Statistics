{
 "cells": [
  {
   "cell_type": "markdown",
   "metadata": {},
   "source": [
    "# COURSE: Master statistics and machine learning: Intuition, Math, code\n",
    "##### COURSE URL: udemy.com/course/statsml_x/?couponCode=202006 \n",
    "## SECTION: Descriptive statistics\n",
    "### VIDEO: Entropy\n",
    "#### TEACHER: Mike X Cohen, sincxpress.com"
   ]
  },
  {
   "cell_type": "code",
   "execution_count": 1,
   "metadata": {},
   "outputs": [],
   "source": [
    "# import libraries\n",
    "import matplotlib.pyplot as plt\n",
    "import numpy as np"
   ]
  },
  {
   "cell_type": "code",
   "execution_count": 2,
   "metadata": {},
   "outputs": [
    {
     "data": {
      "text/plain": [
       "[<matplotlib.lines.Line2D at 0x17e66af04f0>]"
      ]
     },
     "execution_count": 2,
     "metadata": {},
     "output_type": "execute_result"
    },
    {
     "data": {
      "image/png": "[encoded data removed]",
      "text/plain": [
       "<Figure size 432x288 with 1 Axes>"
      ]
     },
     "metadata": {
      "needs_background": "light"
     },
     "output_type": "display_data"
    }
   ],
   "source": [
    "## \"discrete\" entropy\n",
    "\n",
    "# generate data\n",
    "N = 1000\n",
    "numbers = np.ceil( 8*np.random.rand(N)**2 )\n",
    "numbers[numbers==7] = 4\n",
    "plt.plot(numbers,'o')"
   ]
  },
  {
   "cell_type": "code",
   "execution_count": null,
   "metadata": {},
   "outputs": [],
   "source": [
    "## \"discrete\" entropy\n",
    "\n",
    "# generate data\n",
    "N = 1000\n",
    "numbers = np.ceil( 8*np.random.rand(N)**2 )\n",
    "\n",
    "\n",
    "# get counts and probabilities\n",
    "u = np.unique(numbers)\n",
    "probs = np.zeros(len(u))\n",
    "\n",
    "for ui in range(len(u)):\n",
    "    probs[ui] = sum(numbers==u[ui]) / N\n",
    "\n",
    "    \n",
    "# compute entropy\n",
    "entropee = -sum( probs*np.log2(probs+np.finfo(float).eps) )\n",
    "\n",
    "\n",
    "# plot\n",
    "plt.bar(u,probs)\n",
    "plt.title('Entropy = %g'%entropee)\n",
    "plt.xlabel('Data value')\n",
    "plt.ylabel('Probability')\n",
    "plt.show()"
   ]
  },
  {
   "cell_type": "code",
   "execution_count": null,
   "metadata": {},
   "outputs": [],
   "source": [
    "## for random variables\n",
    "\n",
    "# create Brownian noise\n",
    "N = 1123\n",
    "brownnoise = np.cumsum( np.sign(np.random.randn(N)) )\n",
    "\n",
    "fig,ax = plt.subplots(2,1,figsize=(4,6))\n",
    "ax[0].plot(brownnoise)\n",
    "ax[0].set_xlabel('Data index')\n",
    "ax[0].set_ylabel('Data value')\n",
    "ax[0].set_title('Brownian noise')\n",
    "\n",
    "ax[1].hist(brownnoise,30)\n",
    "ax[1].set_xlabel('Data value')\n",
    "ax[1].set_ylabel('Counts')\n",
    "plt.show()"
   ]
  },
  {
   "cell_type": "code",
   "execution_count": null,
   "metadata": {},
   "outputs": [],
   "source": [
    "### now compute entropy\n",
    "# number of bins\n",
    "nbins = 50\n",
    "\n",
    "# bin the data and convert to probability\n",
    "nPerBin,bins = np.histogram(brownnoise,nbins)\n",
    "probs = nPerBin / sum(nPerBin)\n",
    "\n",
    "# compute entropy\n",
    "entro = -sum( probs*np.log2(probs+np.finfo(float).eps) )\n",
    "\n",
    "print('Entropy = %g'%entro)"
   ]
  },
  {
   "cell_type": "code",
   "execution_count": null,
   "metadata": {},
   "outputs": [],
   "source": []
  },
  {
   "cell_type": "code",
   "execution_count": null,
   "metadata": {},
   "outputs": [],
   "source": []
  }
 ],
 "metadata": {
  "kernelspec": {
   "display_name": "Python 3",
   "language": "python",
   "name": "python3"
  },
  "language_info": {
   "codemirror_mode": {
    "name": "ipython",
    "version": 3
   },
   "file_extension": ".py",
   "mimetype": "text/x-python",
   "name": "python",
   "nbconvert_exporter": "python",
   "pygments_lexer": "ipython3",
   "version": "3.9.5"
  }
 },
 "nbformat": 4,
 "nbformat_minor": 2
}
