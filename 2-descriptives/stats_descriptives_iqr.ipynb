{
 "cells": [
  {
   "cell_type": "markdown",
   "metadata": {},
   "source": [
    "# COURSE: Master statistics and machine learning: Intuition, Math, code\n",
    "##### COURSE URL: udemy.com/course/statsml_x/?couponCode=202006 \n",
    "## SECTION: Descriptive statistics\n",
    "### VIDEO: Inter-quartile range (IQR)\n",
    "#### TEACHER: Mike X Cohen, sincxpress.com"
   ]
  },
  {
   "cell_type": "code",
   "execution_count": 1,
   "metadata": {},
   "outputs": [],
   "source": [
    "# import libraries\n",
    "import matplotlib.pyplot as plt\n",
    "import numpy as np\n",
    "import scipy.stats as stats"
   ]
  },
  {
   "cell_type": "code",
   "execution_count": 7,
   "metadata": {},
   "outputs": [
    {
     "data": {
      "image/png": "[encoded data removed]",
      "text/plain": [
       "<Figure size 432x288 with 1 Axes>"
      ]
     },
     "metadata": {
      "needs_background": "light"
     },
     "output_type": "display_data"
    }
   ],
   "source": [
    "## create the data\n",
    "\n",
    "# random number data\n",
    "n = 1000\n",
    "data = np.random.randn(n)**2\n",
    "\n",
    "plt.plot(data,'p')\n",
    "plt.show()"
   ]
  },
  {
   "cell_type": "code",
   "execution_count": 9,
   "metadata": {},
   "outputs": [
    {
     "data": {
      "text/plain": [
       "(array([565., 155.,  99.,  55.,  42.,  28.,  15.,  13.,   7.,   6.,   1.,\n",
       "          2.,   2.,   4.,   2.,   1.,   1.,   0.,   0.,   1.,   0.,   0.,\n",
       "          0.,   0.,   0.,   0.,   0.,   0.,   0.,   1.]),\n",
       " array([3.03405312e-07, 6.06763462e-01, 1.21352662e+00, 1.82028978e+00,\n",
       "        2.42705294e+00, 3.03381610e+00, 3.64057925e+00, 4.24734241e+00,\n",
       "        4.85410557e+00, 5.46086873e+00, 6.06763189e+00, 6.67439505e+00,\n",
       "        7.28115821e+00, 7.88792136e+00, 8.49468452e+00, 9.10144768e+00,\n",
       "        9.70821084e+00, 1.03149740e+01, 1.09217372e+01, 1.15285003e+01,\n",
       "        1.21352635e+01, 1.27420266e+01, 1.33487898e+01, 1.39555529e+01,\n",
       "        1.45623161e+01, 1.51690793e+01, 1.57758424e+01, 1.63826056e+01,\n",
       "        1.69893687e+01, 1.75961319e+01, 1.82028951e+01]),\n",
       " <BarContainer object of 30 artists>)"
      ]
     },
     "execution_count": 9,
     "metadata": {},
     "output_type": "execute_result"
    },
    {
     "data": {
      "image/png": "[encoded data removed]",
      "text/plain": [
       "<Figure size 432x288 with 1 Axes>"
      ]
     },
     "metadata": {
      "needs_background": "light"
     },
     "output_type": "display_data"
    }
   ],
   "source": [
    "plt.hist(data,30)"
   ]
  },
  {
   "cell_type": "code",
   "execution_count": 13,
   "metadata": {},
   "outputs": [
    {
     "name": "stdout",
     "output_type": "stream",
     "text": [
      "1.281296855934042 1.2836933182367714\n"
     ]
    }
   ],
   "source": [
    "# rank-transform the data and scale to 1\n",
    "dataR = stats.rankdata(data)/n\n",
    "\n",
    "# find the values closest to 25% and 75% of the distribution\n",
    "q1 = np.argmin((dataR-.25)**2)\n",
    "q3 = np.argmin((dataR-.75)**2)\n",
    "\n",
    "# get the two values in the data\n",
    "iq_vals = data[[q1,q3]]\n",
    "\n",
    "# IQR is the difference between them\n",
    "iqrange1 = iq_vals[1] - iq_vals[0]\n",
    "\n",
    "# or use Python's built-in function ;)\n",
    "iqrange2 = stats.iqr(data)\n",
    "\n",
    "print(iqrange1,iqrange2)"
   ]
  },
  {
   "cell_type": "code",
   "execution_count": 11,
   "metadata": {},
   "outputs": [
    {
     "data": {
      "text/plain": [
       "array([0.10721537, 1.38851223])"
      ]
     },
     "execution_count": 11,
     "metadata": {},
     "output_type": "execute_result"
    }
   ],
   "source": [
    "iq_vals"
   ]
  }
 ],
 "metadata": {
  "kernelspec": {
   "display_name": "Python 3",
   "language": "python",
   "name": "python3"
  },
  "language_info": {
   "codemirror_mode": {
    "name": "ipython",
    "version": 3
   },
   "file_extension": ".py",
   "mimetype": "text/x-python",
   "name": "python",
   "nbconvert_exporter": "python",
   "pygments_lexer": "ipython3",
   "version": "3.9.5"
  }
 },
 "nbformat": 4,
 "nbformat_minor": 2
}
