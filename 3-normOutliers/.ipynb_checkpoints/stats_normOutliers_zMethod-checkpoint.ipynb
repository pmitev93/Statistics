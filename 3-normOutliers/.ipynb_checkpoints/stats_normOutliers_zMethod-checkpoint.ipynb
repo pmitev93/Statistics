{
 "cells": [
  {
   "cell_type": "markdown",
   "metadata": {},
   "source": [
    "# COURSE: Master statistics and machine learning: Intuition, Math, code\n",
    "##### COURSE URL: udemy.com/course/statsml_x/?couponCode=202006 \n",
    "## SECTION: Data normalizations and outliers\n",
    "### VIDEO: Z-score for outlier removal\n",
    "#### TEACHER: Mike X Cohen, sincxpress.com"
   ]
  },
  {
   "cell_type": "code",
   "execution_count": 1,
   "metadata": {},
   "outputs": [],
   "source": [
    "import numpy as np\n",
    "import matplotlib.pyplot as plt\n",
    "from statsmodels import robust\n",
    "import scipy.stats as stats"
   ]
  },
  {
   "cell_type": "code",
   "execution_count": 2,
   "metadata": {},
   "outputs": [
    {
     "data": {
      "image/png": "[encoded data removed]",
      "text/plain": [
       "<Figure size 576x432 with 2 Axes>"
      ]
     },
     "metadata": {
      "needs_background": "light"
     },
     "output_type": "display_data"
    }
   ],
   "source": [
    "## create some data\n",
    "\n",
    "N = 40\n",
    "data = np.random.randn(N)\n",
    "data[data<-1] = data[data<-1]+2\n",
    "data[data>2] = data[data>2]**2; # try to force a few outliers\n",
    "data = data*200 + 50  # change the scale for comparison with z\n",
    "\n",
    "# convert to z\n",
    "dataZ = (data-np.mean(data)) / np.std(data)\n",
    "\n",
    "\n",
    "#### specify the z-score threshold\n",
    "zscorethresh = 3\n",
    "\n",
    "\n",
    "\n",
    "# plot the data\n",
    "fig,ax = plt.subplots(2,1,figsize=(8,6))\n",
    "\n",
    "ax[0].plot(data,'k^',markerfacecolor='w',markersize=12)\n",
    "ax[0].set_xticks([])\n",
    "ax[0].set_xlabel('Data index')\n",
    "ax[0].set_ylabel('Orig. scale')\n",
    "\n",
    "# then plot the zscores\n",
    "ax[1].plot(dataZ,'k^',markerfacecolor='w',markersize=12)\n",
    "ax[1].plot([0,N],[zscorethresh,zscorethresh],'r--')\n",
    "ax[1].set_xlabel('Data index')\n",
    "ax[1].set_ylabel('Z distance')\n",
    "plt.show()"
   ]
  },
  {
   "cell_type": "code",
   "execution_count": null,
   "metadata": {},
   "outputs": [],
   "source": [
    "## identify outliers\n",
    "\n",
    "# find 'em!\n",
    "outliers = np.where(abs(dataZ)>zscorethresh)[0]\n",
    "\n",
    "# and cross those out\n",
    "ax[0].plot(outliers,data[outliers],'x',color='r',markersize=20)\n",
    "ax[1].plot(outliers,dataZ[outliers],'x',color='r',markersize=20)\n",
    "\n",
    "fig"
   ]
  },
  {
   "cell_type": "code",
   "execution_count": null,
   "metadata": {},
   "outputs": [],
   "source": [
    "## iterative method\n",
    "\n",
    "# pick a lenient threshold just for illustration\n",
    "zscorethresh = 2\n",
    "dataZ = (data-np.mean(data)) / np.std(data)\n",
    "\n",
    "\n",
    "colorz = 'brkm'\n",
    "numiters = 0 # iteration counter\n",
    "while True:\n",
    "    \n",
    "    # convert to z\n",
    "    datamean = np.nanmean(dataZ)\n",
    "    datastd  = np.nanstd(dataZ)\n",
    "    dataZ = (dataZ-datamean) / datastd\n",
    "    \n",
    "    # find data values to remove\n",
    "    toremove = dataZ>zscorethresh\n",
    "    \n",
    "    # break out of while loop if no points to remove\n",
    "    if sum(toremove)==0:\n",
    "        break\n",
    "    else:\n",
    "        # otherwise, mark the outliers in the plot\n",
    "        plt.plot(np.where(toremove)[0],dataZ[toremove],'%sx'%colorz[numiters],markersize=12)\n",
    "        dataZ[toremove] = np.nan\n",
    "    \n",
    "    # replot\n",
    "    plt.plot(dataZ,'k^',markersize=12,markerfacecolor=colorz[numiters],label='iteration %g'%numiters)\n",
    "    numiters = numiters + 1\n",
    "\n",
    "plt.xticks([])\n",
    "plt.ylabel('Z-score')\n",
    "plt.xlabel('Data index')\n",
    "plt.legend()\n",
    "plt.show()\n",
    "\n",
    "#### the data points to be removed\n",
    "removeFromOriginal = np.where(np.isnan(dataZ))[0]\n",
    "print(removeFromOriginal)"
   ]
  },
  {
   "cell_type": "code",
   "execution_count": null,
   "metadata": {},
   "outputs": [],
   "source": [
    "## modified Z for non-normal distributions\n",
    "\n",
    "# compute modified z\n",
    "dataMed = np.median(data)\n",
    "dataMAD = robust.mad(data)\n",
    "\n",
    "dataMz = stats.norm.ppf(.75)*(data-dataMed) / dataMAD\n",
    "\n",
    "\n",
    "# plot the data\n",
    "fig,ax = plt.subplots(2,1,figsize=(8,6))\n",
    "\n",
    "ax[0].plot(data,'k^',markerfacecolor='w',markersize=12)\n",
    "ax[0].set_xticks([])\n",
    "ax[0].set_xlabel('Data index')\n",
    "ax[0].set_ylabel('Orig. scale')\n",
    "\n",
    "# then plot the zscores\n",
    "ax[1].plot(dataMz,'k^',markerfacecolor='w',markersize=12)\n",
    "ax[1].plot([0,N],[zscorethresh,zscorethresh],'r--')\n",
    "ax[1].set_xlabel('Data index')\n",
    "ax[1].set_ylabel('Median dev. units (Mz)')\n",
    "plt.show()"
   ]
  }
 ],
 "metadata": {
  "kernelspec": {
   "display_name": "Python 3",
   "language": "python",
   "name": "python3"
  },
  "language_info": {
   "codemirror_mode": {
    "name": "ipython",
    "version": 3
   },
   "file_extension": ".py",
   "mimetype": "text/x-python",
   "name": "python",
   "nbconvert_exporter": "python",
   "pygments_lexer": "ipython3",
   "version": "3.9.5"
  }
 },
 "nbformat": 4,
 "nbformat_minor": 2
}
