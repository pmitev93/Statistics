{
 "cells": [
  {
   "cell_type": "markdown",
   "metadata": {},
   "source": [
    "# COURSE: Master statistics and machine learning: Intuition, Math, code\n",
    "##### COURSE URL: udemy.com/course/statsml_x/?couponCode=202006 \n",
    "## SECTION: Probability theory\n",
    "### VIDEO: Sampling variability\n",
    "#### TEACHER: Mike X Cohen, sincxpress.com"
   ]
  },
  {
   "cell_type": "code",
   "execution_count": 1,
   "metadata": {},
   "outputs": [],
   "source": [
    "# import libraries\n",
    "import matplotlib.pyplot as plt\n",
    "import numpy as np\n",
    "import scipy.stats as stats"
   ]
  },
  {
   "cell_type": "code",
   "execution_count": 2,
   "metadata": {},
   "outputs": [
    {
     "data": {
      "image/png": "[encoded data removed]",
      "text/plain": [
       "<Figure size 432x288 with 1 Axes>"
      ]
     },
     "metadata": {
      "needs_background": "light"
     },
     "output_type": "display_data"
    }
   ],
   "source": [
    "## a theoretical normal distribution\n",
    "x = np.linspace(-5,5,10101)\n",
    "theoNormDist = stats.norm.pdf(x)\n",
    "# (normalize to pdf)\n",
    "# theoNormDist = theoNormDist*np.mean(np.diff(x))\n",
    "\n",
    "# now for our experiment\n",
    "numSamples = 40\n",
    "\n",
    "# initialize\n",
    "sampledata = np.zeros(numSamples)\n",
    "\n",
    "# run the experiment!\n",
    "for expi in range(numSamples):\n",
    "    sampledata[expi] = np.random.randn()\n",
    "\n",
    "\n",
    "# show the results\n",
    "plt.hist(sampledata,density=True)\n",
    "plt.plot(x,theoNormDist,'r',linewidth=3)\n",
    "plt.xlabel('Data values')\n",
    "plt.ylabel('Probability')\n",
    "plt.show()"
   ]
  },
  {
   "cell_type": "code",
   "execution_count": null,
   "metadata": {},
   "outputs": [],
   "source": [
    "## show the mean of samples of a known distribution\n",
    "\n",
    "# generate population data with known mean\n",
    "populationN = 1000000\n",
    "population  = np.random.randn(populationN)\n",
    "population  = population - np.mean(population) # demean\n",
    "\n",
    "\n",
    "# now we draw a random sample from that population\n",
    "samplesize = 30\n",
    "\n",
    "# the random indices to select from the population\n",
    "sampleidx = np.random.randint(0,populationN,samplesize)\n",
    "samplemean = np.mean(population[ sampleidx ])\n",
    "\n",
    "### how does the sample mean compare to the population mean?\n",
    "print(samplemean)"
   ]
  },
  {
   "cell_type": "code",
   "execution_count": null,
   "metadata": {},
   "outputs": [],
   "source": [
    "## repeat for different sample sizes\n",
    "\n",
    "samplesizes = np.arange(30,1000)\n",
    "\n",
    "samplemeans = np.zeros(len(samplesizes))\n",
    "\n",
    "for sampi in range(len(samplesizes)):\n",
    "    \n",
    "    # nearly the same code as above\n",
    "    sampleidx = np.random.randint(0,populationN,samplesizes[sampi])\n",
    "    samplemeans[sampi] = np.mean(population[ sampleidx ])\n",
    "\n",
    "\n",
    "# show the results!\n",
    "plt.plot(samplesizes,samplemeans,'s-')\n",
    "plt.plot(samplesizes[[0,-1]],[np.mean(population),np.mean(population)],'r',linewidth=3)\n",
    "plt.xlabel('sample size')\n",
    "plt.ylabel('mean value')\n",
    "plt.legend(('Sample means','Population mean'))\n",
    "plt.show()"
   ]
  }
 ],
 "metadata": {
  "kernelspec": {
   "display_name": "Python 3",
   "language": "python",
   "name": "python3"
  },
  "language_info": {
   "codemirror_mode": {
    "name": "ipython",
    "version": 3
   },
   "file_extension": ".py",
   "mimetype": "text/x-python",
   "name": "python",
   "nbconvert_exporter": "python",
   "pygments_lexer": "ipython3",
   "version": "3.9.5"
  }
 },
 "nbformat": 4,
 "nbformat_minor": 2
}
