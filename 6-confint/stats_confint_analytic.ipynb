{
 "cells": [
  {
   "cell_type": "markdown",
   "metadata": {},
   "source": [
    "# COURSE: Master statistics and machine learning: Intuition, Math, code\n",
    "##### COURSE URL: udemy.com/course/statsml_x/?couponCode=202006 \n",
    "## SECTION: Confidence intervals\n",
    "### VIDEO: Compute confidence intervals by formula\n",
    "#### TEACHER: Mike X Cohen, sincxpress.com"
   ]
  },
  {
   "cell_type": "code",
   "execution_count": 1,
   "metadata": {},
   "outputs": [],
   "source": [
    "# import libraries\n",
    "import matplotlib.pyplot as plt\n",
    "import numpy as np\n",
    "import scipy.stats as stats\n",
    "from matplotlib.patches import Polygon"
   ]
  },
  {
   "cell_type": "code",
   "execution_count": 2,
   "metadata": {},
   "outputs": [
    {
     "data": {
      "image/png": "[encoded data removed]",
      "text/plain": [
       "<Figure size 432x288 with 2 Axes>"
      ]
     },
     "metadata": {
      "needs_background": "light"
     },
     "output_type": "display_data"
    }
   ],
   "source": [
    "## simulate data\n",
    "\n",
    "popN = int(1e7)  # lots and LOTS of data!!\n",
    "\n",
    "# the data (note: non-normal!)\n",
    "population = (4*np.random.randn(popN))**2\n",
    "\n",
    "# we can calculate the exact population mean\n",
    "popMean = np.mean(population)\n",
    "\n",
    "# let's see it\n",
    "fig,ax = plt.subplots(2,1,figsize=(6,4))\n",
    "\n",
    "# only plot every 1000th sample\n",
    "ax[0].plot(population[::1000],'k.')\n",
    "ax[0].set_xlabel('Data index')\n",
    "ax[0].set_ylabel('Data value')\n",
    "\n",
    "ax[1].hist(population,bins='fd')\n",
    "ax[1].set_ylabel('Count')\n",
    "ax[1].set_xlabel('Data value')\n",
    "plt.show()\n"
   ]
  },
  {
   "cell_type": "code",
   "execution_count": 13,
   "metadata": {},
   "outputs": [
    {
     "data": {
      "image/png": "[encoded data removed]",
      "text/plain": [
       "<Figure size 432x288 with 1 Axes>"
      ]
     },
     "metadata": {
      "needs_background": "light"
     },
     "output_type": "display_data"
    }
   ],
   "source": [
    "## draw a random sample\n",
    "\n",
    "# parameters\n",
    "samplesize = 40\n",
    "confidence = 95 # in percent\n",
    "\n",
    "# compute sample mean\n",
    "randSamples = np.random.randint(0,popN,samplesize)\n",
    "samplemean  = np.mean(population[randSamples])\n",
    "samplestd   = np.std(population[randSamples],ddof=1)\n",
    "\n",
    "# compute confidence intervals\n",
    "citmp = (1-confidence/100)/2 # the 2 is because we're doing a two-tailed test\n",
    "confint = samplemean + stats.t.ppf([citmp, 1-citmp],samplesize-1) * samplestd/np.sqrt(samplesize)\n",
    "\n",
    "\n",
    "# graph everything\n",
    "fig,ax = plt.subplots(1,1)\n",
    "\n",
    "y = np.array([ [confint[0],0],[confint[1],0],[confint[1],1],[confint[0],1] ])\n",
    "p = Polygon(y,facecolor='g',alpha=.3)\n",
    "ax.add_patch(p)\n",
    "\n",
    "# now add the lines\n",
    "ax.plot([popMean,popMean],[0, 1.5],'k:',linewidth=2)\n",
    "ax.plot([samplemean,samplemean],[0, 1],'r--',linewidth=3)\n",
    "ax.set_xlim([popMean-30, popMean+30])\n",
    "ax.set_yticks([])\n",
    "ax.set_xlabel('Data values')\n",
    "ax.legend(('True mean','Sample mean','%g%% CI region'%confidence))\n",
    "plt.show()"
   ]
  },
  {
   "cell_type": "code",
   "execution_count": 14,
   "metadata": {},
   "outputs": [
    {
     "name": "stdout",
     "output_type": "stream",
     "text": [
      "92.48% of sample C.I.s contained the true population mean.\n"
     ]
    }
   ],
   "source": [
    "## repeat for large number of samples\n",
    "\n",
    "# parameters\n",
    "samplesize = 50\n",
    "confidence = 95  # in percent\n",
    "numExperiments = 5000\n",
    "\n",
    "withinCI = np.zeros(numExperiments)\n",
    "\n",
    "\n",
    "# part of the CI computation can be done outside the loop\n",
    "citmp = (1-confidence/100)/2\n",
    "CI_T  = stats.t.ppf([citmp, 1-citmp],samplesize-1)\n",
    "sqrtN = np.sqrt(samplesize)\n",
    "\n",
    "for expi in range(numExperiments):\n",
    "    \n",
    "    # compute sample mean and CI as above\n",
    "    randSamples = np.random.randint(0,popN,samplesize)\n",
    "    samplemean  = np.mean(population[randSamples])\n",
    "    samplestd   = np.std(population[randSamples],ddof=1)\n",
    "    confint     = samplemean + CI_T * samplestd/sqrtN\n",
    "    \n",
    "    # determine whether the True mean is inside this CI\n",
    "    if popMean>confint[0] and popMean<confint[1]:\n",
    "        withinCI[expi] = 1\n",
    "        \n",
    "\n",
    "print('%g%% of sample C.I.''s contained the true population mean.'%(100*np.mean(withinCI)))\n"
   ]
  }
 ],
 "metadata": {
  "kernelspec": {
   "display_name": "Python 3",
   "language": "python",
   "name": "python3"
  },
  "language_info": {
   "codemirror_mode": {
    "name": "ipython",
    "version": 3
   },
   "file_extension": ".py",
   "mimetype": "text/x-python",
   "name": "python",
   "nbconvert_exporter": "python",
   "pygments_lexer": "ipython3",
   "version": "3.9.5"
  }
 },
 "nbformat": 4,
 "nbformat_minor": 2
}
