{
 "cells": [
  {
   "cell_type": "markdown",
   "metadata": {},
   "source": [
    "# COURSE: Master statistics and machine learning: Intuition, Math, code\n",
    "##### COURSE URL: udemy.com/course/statsml_x/?couponCode=202006 \n",
    "## SECTION: Regression\n",
    "### VIDEO: Multiple regression\n",
    "#### TEACHER: Mike X Cohen, sincxpress.com"
   ]
  },
  {
   "cell_type": "code",
   "execution_count": 1,
   "metadata": {},
   "outputs": [],
   "source": [
    "import numpy as np\n",
    "import matplotlib.pyplot as plt\n",
    "import scipy.stats as stats\n",
    "\n",
    "from sklearn.linear_model import LinearRegression\n",
    "import statsmodels.api as sm"
   ]
  },
  {
   "cell_type": "code",
   "execution_count": 2,
   "metadata": {},
   "outputs": [],
   "source": [
    "## example: effects of sleep and study hours on exam scores\n",
    "### create the data\n",
    "\n",
    "exam_scores = []\n",
    "for ei in range(5):\n",
    "    exam_scores = np.hstack((exam_scores,60*np.ones(6)+np.linspace(-1,5,6)*ei))\n",
    "\n",
    "hours_studied = np.tile(np.linspace(2,8,6),5)\n",
    "ave_sleep_hrs = np.linspace(6,10,30)\n"
   ]
  },
  {
   "cell_type": "code",
   "execution_count": 3,
   "metadata": {},
   "outputs": [
    {
     "data": {
      "image/png": "[encoded data removed]",
      "text/plain": [
       "<Figure size 432x288 with 1 Axes>"
      ]
     },
     "metadata": {
      "needs_background": "light"
     },
     "output_type": "display_data"
    }
   ],
   "source": [
    "## plot the data\n",
    "\n",
    "### stratify by hours studied\n",
    "\n",
    "# fewer than 4 hours studied\n",
    "plotidx = hours_studied<4.1\n",
    "plt.plot(ave_sleep_hrs[plotidx],exam_scores[plotidx],'ko',markerfacecolor='k')\n",
    "\n",
    "# 5-6 hours studied\n",
    "plotidx = np.logical_and(hours_studied>4.9, hours_studied<6.1)\n",
    "plt.plot(ave_sleep_hrs[plotidx],exam_scores[plotidx],'ro',markerfacecolor='r')\n",
    "\n",
    "# more than 6 hours\n",
    "plotidx = hours_studied>6\n",
    "plt.plot(ave_sleep_hrs[plotidx],exam_scores[plotidx],'bo',markerfacecolor='b')\n",
    "\n",
    "plt.xlabel('Hours of sleep')\n",
    "plt.ylabel('Exam score')\n",
    "plt.legend(('<4 hours studied','5-6 hours studied','>7 hours studied'))\n",
    "plt.show()\n"
   ]
  },
  {
   "cell_type": "code",
   "execution_count": 4,
   "metadata": {},
   "outputs": [
    {
     "data": {
      "text/html": [
       "<table class=\"simpletable\">\n",
       "<caption>OLS Regression Results</caption>\n",
       "<tr>\n",
       "  <th>Dep. Variable:</th>            <td>y</td>        <th>  R-squared:         </th> <td>   0.993</td>\n",
       "</tr>\n",
       "<tr>\n",
       "  <th>Model:</th>                   <td>OLS</td>       <th>  Adj. R-squared:    </th> <td>   0.992</td>\n",
       "</tr>\n",
       "<tr>\n",
       "  <th>Method:</th>             <td>Least Squares</td>  <th>  F-statistic:       </th> <td>   1182.</td>\n",
       "</tr>\n",
       "<tr>\n",
       "  <th>Date:</th>             <td>Thu, 24 Jun 2021</td> <th>  Prob (F-statistic):</th> <td>6.74e-28</td>\n",
       "</tr>\n",
       "<tr>\n",
       "  <th>Time:</th>                 <td>14:23:31</td>     <th>  Log-Likelihood:    </th> <td> -21.269</td>\n",
       "</tr>\n",
       "<tr>\n",
       "  <th>No. Observations:</th>      <td>    30</td>      <th>  AIC:               </th> <td>   50.54</td>\n",
       "</tr>\n",
       "<tr>\n",
       "  <th>Df Residuals:</th>          <td>    26</td>      <th>  BIC:               </th> <td>   56.14</td>\n",
       "</tr>\n",
       "<tr>\n",
       "  <th>Df Model:</th>              <td>     3</td>      <th>                     </th>     <td> </td>   \n",
       "</tr>\n",
       "<tr>\n",
       "  <th>Covariance Type:</th>      <td>nonrobust</td>    <th>                     </th>     <td> </td>   \n",
       "</tr>\n",
       "</table>\n",
       "<table class=\"simpletable\">\n",
       "<tr>\n",
       "    <td></td>       <th>coef</th>     <th>std err</th>      <th>t</th>      <th>P>|t|</th>  <th>[0.025</th>    <th>0.975]</th>  \n",
       "</tr>\n",
       "<tr>\n",
       "  <th>const</th> <td>   82.4315</td> <td>    1.700</td> <td>   48.491</td> <td> 0.000</td> <td>   78.937</td> <td>   85.926</td>\n",
       "</tr>\n",
       "<tr>\n",
       "  <th>x1</th>    <td>   -3.4511</td> <td>    0.215</td> <td>  -16.087</td> <td> 0.000</td> <td>   -3.892</td> <td>   -3.010</td>\n",
       "</tr>\n",
       "<tr>\n",
       "  <th>x2</th>    <td>   -7.6663</td> <td>    0.321</td> <td>  -23.916</td> <td> 0.000</td> <td>   -8.325</td> <td>   -7.007</td>\n",
       "</tr>\n",
       "<tr>\n",
       "  <th>x3</th>    <td>    1.1736</td> <td>    0.040</td> <td>   29.623</td> <td> 0.000</td> <td>    1.092</td> <td>    1.255</td>\n",
       "</tr>\n",
       "</table>\n",
       "<table class=\"simpletable\">\n",
       "<tr>\n",
       "  <th>Omnibus:</th>       <td>10.899</td> <th>  Durbin-Watson:     </th> <td>   1.069</td>\n",
       "</tr>\n",
       "<tr>\n",
       "  <th>Prob(Omnibus):</th> <td> 0.004</td> <th>  Jarque-Bera (JB):  </th> <td>   3.273</td>\n",
       "</tr>\n",
       "<tr>\n",
       "  <th>Skew:</th>          <td>-0.438</td> <th>  Prob(JB):          </th> <td>   0.195</td>\n",
       "</tr>\n",
       "<tr>\n",
       "  <th>Kurtosis:</th>      <td> 1.640</td> <th>  Cond. No.          </th> <td>    821.</td>\n",
       "</tr>\n",
       "</table><br/><br/>Notes:<br/>[1] Standard Errors assume that the covariance matrix of the errors is correctly specified."
      ],
      "text/plain": [
       "<class 'statsmodels.iolib.summary.Summary'>\n",
       "\"\"\"\n",
       "                            OLS Regression Results                            \n",
       "==============================================================================\n",
       "Dep. Variable:                      y   R-squared:                       0.993\n",
       "Model:                            OLS   Adj. R-squared:                  0.992\n",
       "Method:                 Least Squares   F-statistic:                     1182.\n",
       "Date:                Thu, 24 Jun 2021   Prob (F-statistic):           6.74e-28\n",
       "Time:                        14:23:31   Log-Likelihood:                -21.269\n",
       "No. Observations:                  30   AIC:                             50.54\n",
       "Df Residuals:                      26   BIC:                             56.14\n",
       "Df Model:                           3                                         \n",
       "Covariance Type:            nonrobust                                         \n",
       "==============================================================================\n",
       "                 coef    std err          t      P>|t|      [0.025      0.975]\n",
       "------------------------------------------------------------------------------\n",
       "const         82.4315      1.700     48.491      0.000      78.937      85.926\n",
       "x1            -3.4511      0.215    -16.087      0.000      -3.892      -3.010\n",
       "x2            -7.6663      0.321    -23.916      0.000      -8.325      -7.007\n",
       "x3             1.1736      0.040     29.623      0.000       1.092       1.255\n",
       "==============================================================================\n",
       "Omnibus:                       10.899   Durbin-Watson:                   1.069\n",
       "Prob(Omnibus):                  0.004   Jarque-Bera (JB):                3.273\n",
       "Skew:                          -0.438   Prob(JB):                        0.195\n",
       "Kurtosis:                       1.640   Cond. No.                         821.\n",
       "==============================================================================\n",
       "\n",
       "Notes:\n",
       "[1] Standard Errors assume that the covariance matrix of the errors is correctly specified.\n",
       "\"\"\""
      ]
     },
     "execution_count": 4,
     "metadata": {},
     "output_type": "execute_result"
    }
   ],
   "source": [
    "## multiple regression \n",
    "\n",
    "# build the design matrix\n",
    "desmat = np.vstack((np.ones((30,)),ave_sleep_hrs,hours_studied,ave_sleep_hrs*hours_studied)).T\n",
    "\n",
    "multireg = sm.OLS(endog=exam_scores, exog=desmat).fit()\n",
    "multireg.summary()"
   ]
  },
  {
   "cell_type": "code",
   "execution_count": null,
   "metadata": {},
   "outputs": [],
   "source": [
    "# without the interaction term\n",
    "\n",
    "multireg = sm.OLS(endog=exam_scores, exog=desmat[:,0:-1]).fit()\n",
    "multireg.summary()"
   ]
  },
  {
   "cell_type": "code",
   "execution_count": null,
   "metadata": {},
   "outputs": [],
   "source": [
    "# inspect the correlations of the IVs\n",
    "np.corrcoef(desmat[:,1:].T)"
   ]
  },
  {
   "cell_type": "code",
   "execution_count": null,
   "metadata": {},
   "outputs": [],
   "source": []
  }
 ],
 "metadata": {
  "kernelspec": {
   "display_name": "Python 3",
   "language": "python",
   "name": "python3"
  },
  "language_info": {
   "codemirror_mode": {
    "name": "ipython",
    "version": 3
   },
   "file_extension": ".py",
   "mimetype": "text/x-python",
   "name": "python",
   "nbconvert_exporter": "python",
   "pygments_lexer": "ipython3",
   "version": "3.9.5"
  }
 },
 "nbformat": 4,
 "nbformat_minor": 2
}
